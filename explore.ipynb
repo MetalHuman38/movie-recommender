{
 "cells": [
  {
   "cell_type": "code",
   "execution_count": null,
   "metadata": {},
   "outputs": [],
   "source": [
    "%pip install pandas"
   ]
  },
  {
   "cell_type": "code",
   "execution_count": null,
   "metadata": {},
   "outputs": [],
   "source": [
    "import pandas as pd\n",
    "\n",
    "# Load each CSV file\n",
    "movies = pd.read_csv(\"/home/babsdevsys/ml-32m/movies.csv\")\n",
    "ratings = pd.read_csv(\"/home/babsdevsys/ml-32m/ratings.csv\")\n",
    "tags = pd.read_csv(\"/home/babsdevsys/ml-32m/tags.csv\")\n",
    "links = pd.read_csv(\"/home/babsdevsys/ml-32m/links.csv\")\n",
    "\n",
    "# Check the shape and column names\n",
    "print(\"Movies:\", movies.shape, movies.columns)\n",
    "print(\"Ratings:\", ratings.shape, ratings.columns)\n",
    "print(\"Tags:\", tags.shape, tags.columns)\n",
    "print(\"Links:\", links.shape, links.columns)"
   ]
  },
  {
   "cell_type": "code",
   "execution_count": null,
   "metadata": {},
   "outputs": [],
   "source": [
    "# Preview datasets\n",
    "print(movies.head())\n",
    "print(ratings.head())\n",
    "print(tags.head())\n",
    "print(links.head())"
   ]
  },
  {
   "cell_type": "code",
   "execution_count": 6,
   "metadata": {},
   "outputs": [],
   "source": [
    "import pandas as pd\n",
    "import os\n",
    "\n",
    "# Paths for input and output datasets\n",
    "INPUT_PATH = \"/home/babsdevsys/ml-32m/\"\n",
    "OUTPUT_PATH = \"/home/babsdevsys/movie_recommendations/loader/sequelize/data/\"\n",
    "\n",
    "# Load the datasets\n",
    "movies = pd.read_csv(os.path.join(INPUT_PATH, \"movies.csv\"))\n",
    "ratings = pd.read_csv(os.path.join(INPUT_PATH, \"ratings.csv\"))\n",
    "tags = pd.read_csv(os.path.join(INPUT_PATH, \"tags.csv\"))\n",
    "links = pd.read_csv(os.path.join(INPUT_PATH, \"links.csv\"))\n",
    "\n",
    "# Rename columns to match the desired schema\n",
    "movies.rename(columns={\"movieId\": \"movie_id\", \"title\": \"title\", \"genres\": \"genres\"}, inplace=True)\n",
    "ratings.rename(columns={\"userId\": \"user_id\", \"movieId\": \"movie_id\", \"rating\": \"rating\", \"timestamp\": \"timestamp\"}, inplace=True)\n",
    "tags.rename(columns={\"userId\": \"user_id\", \"movieId\": \"movie_id\", \"tag\": \"tag\", \"timestamp\": \"timestamp\"}, inplace=True)\n",
    "links.rename(columns={\"movieId\": \"movie_id\", \"imdbId\": \"imdb_id\", \"tmdbId\": \"tmdb_id\"}, inplace=True)\n",
    "\n",
    "# Convert the timestamp columns to a human-readable format\n",
    "ratings[\"timestamp\"] = pd.to_datetime(ratings[\"timestamp\"], unit=\"s\")  # Convert from UNIX seconds\n",
    "tags[\"timestamp\"] = pd.to_datetime(tags[\"timestamp\"], unit=\"s\")        # Convert from UNIX seconds\n",
    "\n",
    "# Preview the datasets after renaming and conversion\n",
    "print(\"Movies Preview:\\n\", movies.head())\n",
    "print(\"Ratings Preview:\\n\", ratings.head())\n",
    "print(\"Tags Preview:\\n\", tags.head())\n",
    "print(\"Links Preview:\\n\", links.head())\n",
    "\n",
    "# Save the cleaned datasets\n",
    "os.makedirs(OUTPUT_PATH, exist_ok=True)  # Ensure the output directory exists\n",
    "movies.to_csv(os.path.join(OUTPUT_PATH, \"movies_clean.csv\"), index=False)\n",
    "ratings.to_csv(os.path.join(OUTPUT_PATH, \"ratings_clean.csv\"), index=False)\n",
    "tags.to_csv(os.path.join(OUTPUT_PATH, \"tags_clean.csv\"), index=False)\n",
    "links.to_csv(os.path.join(OUTPUT_PATH, \"links_clean.csv\"), index=False)\n",
    "\n",
    "print(\"Datasets have been cleaned and saved to:\", OUTPUT_PATH)\n"
   ]
  },
  {
   "cell_type": "code",
   "execution_count": null,
   "metadata": {},
   "outputs": [],
   "source": [
    "import pandas as pd\n",
    "\n",
    "movies = pd.read_csv(\"/home/babsdevsys/movie_recommendations/loader/sequelize/data/movies_clean.csv\")\n",
    "ratings = pd.read_csv(\"/home/babsdevsys/movie_recommendations/loader/sequelize/data/ratings_clean.csv\")\n",
    "tags = pd.read_csv(\"/home/babsdevsys/movie_recommendations/loader/sequelize/data/tags_clean.csv\")\n",
    "links = pd.read_csv(\"/home/babsdevsys/movie_recommendations/loader/sequelize/data/links_clean.csv\")\n",
    "\n",
    "# Check the shape and column names\n",
    "print(\"Movies:\\n\", movies.shape, movies.columns)\n",
    "print(\"Ratings:\\n\", ratings.shape, ratings.columns)\n",
    "print(\"Tags:\\n\", tags.shape, tags.columns)\n",
    "print(\"Links:\\n\", links.shape, links.columns)"
   ]
  },
  {
   "cell_type": "code",
   "execution_count": 5,
   "metadata": {},
   "outputs": [
    {
     "name": "stdout",
     "output_type": "stream",
     "text": [
      "Movies Preview:\n",
      "    movie_id                               title  \\\n",
      "0         1                    Toy Story (1995)   \n",
      "1         2                      Jumanji (1995)   \n",
      "2         3             Grumpier Old Men (1995)   \n",
      "3         4            Waiting to Exhale (1995)   \n",
      "4         5  Father of the Bride Part II (1995)   \n",
      "\n",
      "                                        genres  \n",
      "0  Adventure|Animation|Children|Comedy|Fantasy  \n",
      "1                   Adventure|Children|Fantasy  \n",
      "2                               Comedy|Romance  \n",
      "3                         Comedy|Drama|Romance  \n",
      "4                                       Comedy  \n"
     ]
    }
   ],
   "source": [
    "print(\"Movies Preview:\\n\", movies.head())"
   ]
  },
  {
   "cell_type": "code",
   "execution_count": null,
   "metadata": {},
   "outputs": [],
   "source": []
  }
 ],
 "metadata": {
  "kernelspec": {
   "display_name": "venv",
   "language": "python",
   "name": "python3"
  },
  "language_info": {
   "codemirror_mode": {
    "name": "ipython",
    "version": 3
   },
   "file_extension": ".py",
   "mimetype": "text/x-python",
   "name": "python",
   "nbconvert_exporter": "python",
   "pygments_lexer": "ipython3",
   "version": "3.13.1"
  }
 },
 "nbformat": 4,
 "nbformat_minor": 2
}
